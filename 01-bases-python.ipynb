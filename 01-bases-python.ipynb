{
 "cells": [
  {
   "cell_type": "markdown",
   "metadata": {},
   "source": [
    "# Caracteres de Escape y nueva linea"
   ]
  },
  {
   "cell_type": "code",
   "execution_count": 3,
   "metadata": {},
   "outputs": [
    {
     "name": "stdout",
     "output_type": "stream",
     "text": [
      "La witsi arana\n",
      "subio a su telarana\n",
      "La witsi witsi arana subio a su telarana\n"
     ]
    }
   ],
   "source": [
    "print('La witsi witsi arana\\nsubio a su telarana')\n",
    "print('La witsi witsi arana subio a su telarana')"
   ]
  },
  {
   "cell_type": "code",
   "execution_count": 5,
   "metadata": {},
   "outputs": [
    {
     "name": "stdout",
     "output_type": "stream",
     "text": [
      "La witsi arana \\ aranota\n"
     ]
    }
   ],
   "source": [
    "print('La witsi arana \\\\ aranota')"
   ]
  },
  {
   "cell_type": "code",
   "execution_count": 11,
   "metadata": {},
   "outputs": [
    {
     "name": "stdout",
     "output_type": "stream",
     "text": [
      "El resultado es:10\n"
     ]
    }
   ],
   "source": [
    "x = 10\n",
    "print (\"El resultado es:\" + str (x))"
   ]
  },
  {
   "cell_type": "code",
   "execution_count": 12,
   "metadata": {},
   "outputs": [
    {
     "name": "stdout",
     "output_type": "stream",
     "text": [
      "El valor de x es: 22\n"
     ]
    }
   ],
   "source": [
    "x=22\n",
    "print(f'El valor de x es: {x}')"
   ]
  },
  {
   "cell_type": "code",
   "execution_count": 24,
   "metadata": {},
   "outputs": [
    {
     "name": "stdout",
     "output_type": "stream",
     "text": [
      "La suma de 45.6  y 12.3 es: 57.900000000000006\n"
     ]
    }
   ],
   "source": [
    "x = 45.6\n",
    "y = 12.3\n",
    "\n",
    "suma = x + y\n",
    "print(f'La suma de 45.6  y 12.3 es: {suma}')"
   ]
  },
  {
   "cell_type": "code",
   "execution_count": 23,
   "metadata": {},
   "outputs": [
    {
     "name": "stdout",
     "output_type": "stream",
     "text": [
      "La suma de 45.6 y 12.3 es: 57.900000000000006\n"
     ]
    }
   ],
   "source": [
    "suma = x + y\n",
    "print(f'La suma de 45.6 y 12.3 es: {str(suma)}')"
   ]
  },
  {
   "cell_type": "code",
   "execution_count": null,
   "metadata": {},
   "outputs": [],
   "source": [
    "# Utilizando el string literal"
   ]
  },
  {
   "cell_type": "markdown",
   "metadata": {},
   "source": [
    "# Utilizando el string literal "
   ]
  },
  {
   "cell_type": "code",
   "execution_count": 33,
   "metadata": {},
   "outputs": [
    {
     "name": "stdout",
     "output_type": "stream",
     "text": [
      "La suma de 45.6 + 12.3 = 57.900000000000006\n",
      "La suma de 45.6 + 12.3 = 57.9\n"
     ]
    }
   ],
   "source": [
    "print(f'La suma de {x} + {y} = {x + y}')\n",
    "print(f'La suma de {x} + {y} = {round(x+y,2)}')"
   ]
  },
  {
   "cell_type": "markdown",
   "metadata": {},
   "source": [
    "# Usando multiples argumentos"
   ]
  },
  {
   "cell_type": "code",
   "execution_count": 36,
   "metadata": {},
   "outputs": [
    {
     "name": "stdout",
     "output_type": "stream",
     "text": [
      "The spiderBytesWarningbites my finger\n",
      "the spider bites my 20 fingers\n",
      "we are hungry\n"
     ]
    }
   ],
   "source": [
    "print ('The spider' + 'BytesWarningbites my finger')\n",
    "x = 20 \n",
    "print('the spider', 'bites', 'my', x, 'fingers')\n",
    "\n",
    "print('we are', 'hungry')"
   ]
  },
  {
   "cell_type": "markdown",
   "metadata": {},
   "source": [
    "# Argumentos de palabra clave"
   ]
  },
  {
   "cell_type": "markdown",
   "metadata": {},
   "source": [
    "Python ofrece otro mecanismo para el paso de argumentos, que puede ser útil cuando deseas convencer a la función print() para que cambie un poco su comportamiento.\n",
    "\n",
    "No vamos a explicarlo en profundidad ahora. Planeamos hacerlo cuando hablemos de funciones. Por ahora, simplemente queremos mostrarte cómo funciona. Siéntete libre de usarlo en tus propios programas.\n",
    "\n",
    "El mecanismo se llama argumentos de palabras clave. El nombre proviene del hecho de que el significado de estos argumentos se toma no de su ubicación (posición) sino de la palabra especial (palabra clave) utilizada para identificarlos.\n",
    "\n",
    "La función print() tiene dos argumentos de palabra clave que puedes usar para tus propósitos. El primero se llama end."
   ]
  },
  {
   "cell_type": "code",
   "execution_count": 37,
   "metadata": {},
   "outputs": [
    {
     "name": "stdout",
     "output_type": "stream",
     "text": [
      "Hi sir\n",
      "\n",
      "Hi Benito\n"
     ]
    }
   ],
   "source": [
    "print('Hi sir')\n",
    "print()\n",
    "print('Hi Benito')"
   ]
  },
  {
   "cell_type": "code",
   "execution_count": 44,
   "metadata": {},
   "outputs": [
    {
     "name": "stdout",
     "output_type": "stream",
     "text": [
      "Hi How are you Vaca Grande\n",
      "Hi I am your pitufo\n"
     ]
    }
   ],
   "source": [
    "print('Hi How are you Vaca Grande', end= '\\n')\n",
    "print ('Hi I am your pitufo')"
   ]
  },
  {
   "cell_type": "code",
   "execution_count": 45,
   "metadata": {},
   "outputs": [
    {
     "name": "stdout",
     "output_type": "stream",
     "text": [
      "Hi im your miche with limon and salt\n"
     ]
    }
   ],
   "source": [
    "print ('Hi im your miche', end=\" \")\n",
    "print('with limon and salt')"
   ]
  },
  {
   "cell_type": "markdown",
   "metadata": {},
   "source": [
    "Para usarlo, es necesario conocer algunas reglas:\n",
    "\n",
    "- Un argumento de palabra clave consta de tres elementos: una palabra clave se identifica el argumento (end aquí); un signo de igual (=); y un valor asignado a ese argumento;\n",
    "- cualquier argumento de palabra clave debe colocarse después del último argumento posicional (esto es muy importante)\n",
    "\n",
    "En nuestro ejemplo, hemos utilizado el argumento de palabra clave end, y lo hemos configurado como cadena que contiene un espacio\n",
    "\n",
    "Como puedes ver, el argumento de palabra clave end determina los caracteres que la función print() envía a la salida una vez que llega al final de sus argumentos posicionales.\n",
    "\n",
    "El comportamiento predeterminado refleja la situación en la que el argumento de palabra clave end se usa implícitamente de la siguiente manera: end=\"\\n\"."
   ]
  },
  {
   "cell_type": "code",
   "execution_count": 46,
   "metadata": {},
   "outputs": [
    {
     "name": "stdout",
     "output_type": "stream",
     "text": [
      "Hello world*\n"
     ]
    }
   ],
   "source": [
    "print('Hello world', end='*')\n",
    "print('im here')"
   ]
  },
  {
   "cell_type": "code",
   "execution_count": 48,
   "metadata": {},
   "outputs": [
    {
     "name": "stdout",
     "output_type": "stream",
     "text": [
      "Hi-How are you-America-Champion\n"
     ]
    }
   ],
   "source": [
    "# Palabras clave sep\n",
    "print ('Hi', 'How are you', 'America', 'Champion', sep='-')"
   ]
  },
  {
   "cell_type": "code",
   "execution_count": 50,
   "metadata": {},
   "outputs": [
    {
     "name": "stdout",
     "output_type": "stream",
     "text": [
      "Hi**How are you**America**Champion\n",
      "Soyla/Vaca/del Corral\n",
      "Tengo arta hambre\n"
     ]
    }
   ],
   "source": [
    "print ('Hi', 'How are you', 'America', 'Champion', sep='**')\n",
    "print('Soyla', 'Vaca', 'del Corral', sep=\"/\")\n",
    "print(\"Tengo arta hambre\")"
   ]
  },
  {
   "cell_type": "markdown",
   "metadata": {},
   "source": [
    "# LAB La funcion print y sus argumentos"
   ]
  },
  {
   "cell_type": "markdown",
   "metadata": {},
   "source": [
    "## Escenario"
   ]
  }
 ],
 "metadata": {
  "kernelspec": {
   "display_name": "Python 3",
   "language": "python",
   "name": "python3"
  },
  "language_info": {
   "codemirror_mode": {
    "name": "ipython",
    "version": 3
   },
   "file_extension": ".py",
   "mimetype": "text/x-python",
   "name": "python",
   "nbconvert_exporter": "python",
   "pygments_lexer": "ipython3",
   "version": "3.8.7"
  }
 },
 "nbformat": 4,
 "nbformat_minor": 2
}
