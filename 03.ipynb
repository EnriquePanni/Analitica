{
 "cells": [
  {
   "cell_type": "markdown",
   "metadata": {},
   "source": [
    "### LAB   Operadores de comparación y ejecución condicional\n",
    "\n",
    "Espatifilo, más comúnmente conocida como la planta de Cuna de Moisés o flor de la paz, es una de las plantas para interiores más populares que filtra las toxinas dañinas del aire. Algunas de las toxinas que neutraliza incluyen benceno, formaldehído y amoníaco.\n",
    "\n",
    "Imagina que tu programa de computadora ama estas plantas. Cada vez que recibe una entrada en forma de la palabra Espatifilo, grite involuntariamente a la consola la siguiente cadena: \"¡Espatifilo es la mejor planta de todas!\"\n",
    "\n",
    "Escribe un programa que utilice el concepto de ejecución condicional, tome una cadena como entrada y que:\n",
    "\n",
    "imprima el enunciado \"Si - ¡El Espatifilo! es la mejor planta de todos los tiempos!\" en la pantalla si la cadena ingresada es \"ESPATIFILIO\" (mayúsculas)\n",
    "imprima \"No, ¡quiero un gran Espatifilo!\" si la cadena ingresada es \"espatifilo\" (minúsculas)\n",
    "imprima \"¡Espatifilo!, ¡No [entrada]!\" de lo contrario. Nota: [entrada] es la cadena que se toma como entrada.\n",
    "Prueba tu código con los datos que te proporcionamos. ¡Y hazte de un Espatifilo también!"
   ]
  },
  {
   "cell_type": "code",
   "execution_count": 1,
   "metadata": {},
   "outputs": [
    {
     "name": "stdout",
     "output_type": "stream",
     "text": [
      "¡Espatifilo!, ¡No flor!\n"
     ]
    }
   ],
   "source": [
    "# Solicitar al usuario que ingrese una cadena\n",
    "entrada = input(\"Introduce el nombre de una planta: \")\n",
    "\n",
    "# Verificar la cadena ingresada y responder según las condiciones especificadas\n",
    "if entrada == \"ESPATIFILIO\":\n",
    "    print(\"Si - ¡El Espatifilo! es la mejor planta de todos los tiempos!\")\n",
    "elif entrada == \"espatifilo\":\n",
    "    print(\"No, ¡quiero un gran Espatifilo!\")\n",
    "else:\n",
    "    print(f\"¡Espatifilo!, ¡No {entrada}!\")\n"
   ]
  },
  {
   "cell_type": "markdown",
   "metadata": {},
   "source": [
    "### LAB   Fundamentos de la sentencia if-else\n",
    "\n",
    "Érase una vez una tierra de leche y miel - habitada por gente feliz y próspera. La gente pagaba impuestos, por supuesto - su felicidad tenía límites. El impuesto más importante, denominado Impuesto Personal de Ingresos (IPI, para abreviar) tenía que pagarse una vez al año y se evaluó utilizando la siguiente regla:\n",
    "\n",
    "si el ingreso del ciudadano no era superior a 85,528 pesos, el impuesto era igual al 18% del ingreso menos 556 pesos y 2 centavos (esta fue la llamada exención fiscal).\n",
    "si el ingreso era superior a esta cantidad, el impuesto era igual a 14,839 pesos y 2 centavos, más el 32% del excedente sobre 85,528 pesos.\n",
    "Tu tarea es escribir una calculadora de impuestos.\n",
    "\n",
    "Debe aceptar un valor de punto flotante: el ingreso.\n",
    "A continuación, debe imprimir el impuesto calculado, redondeado a pesos totales. Hay una función llamada round() que hará el redondeo por ti - la encontrarás en el código de esqueleto del editor.\n",
    "Nota: este país feliz nunca devuelve dinero a sus ciudadanos. Si el impuesto calculado es menor que cero, solo significa que no hay impuesto (el impuesto es igual a cero). Ten esto en cuenta durante tus cálculos.\n",
    "\n",
    "Observa el código en el editor - solo lee un valor de entrada y genera un resultado, por lo que debes completarlo con algunos cálculos inteligentes."
   ]
  },
  {
   "cell_type": "code",
   "execution_count": 2,
   "metadata": {},
   "outputs": [
    {
     "name": "stdout",
     "output_type": "stream",
     "text": [
      "El impuesto a pagar es: 1244 pesos\n"
     ]
    }
   ],
   "source": [
    "# Leer el ingreso del usuario\n",
    "ingreso = float(input(\"Introduce el ingreso anual: \"))\n",
    "\n",
    "# Definir los límites y tasas\n",
    "limite = 85528\n",
    "exencion = 556.02\n",
    "tasa_baja = 0.18\n",
    "tasa_alta = 0.32\n",
    "impuesto_base_alta = 14839.02\n",
    "\n",
    "# Calcular el impuesto\n",
    "if ingreso <= limite:\n",
    "    impuesto = ingreso * tasa_baja - exencion\n",
    "else:\n",
    "    excedente = ingreso - limite\n",
    "    impuesto = impuesto_base_alta + (excedente * tasa_alta)\n",
    "\n",
    "# Asegurarse de que el impuesto no sea negativo\n",
    "if impuesto < 0:\n",
    "    impuesto = 0\n",
    "\n",
    "# Redondear el impuesto calculado\n",
    "impuesto = round(impuesto)\n",
    "\n",
    "# Imprimir el resultado\n",
    "print(f\"El impuesto a pagar es: {impuesto} pesos\")\n"
   ]
  },
  {
   "cell_type": "markdown",
   "metadata": {},
   "source": [
    "LAB   Fundamentos de la sentencia if-elif-else\n",
    "\n",
    "Como seguramente sabrás, debido a algunas razones astronómicas, el año puede ser bisiesto o común. Los primeros tienen una duración de 366 días, mientras que los últimos tienen una duración de 365 días.\n",
    "\n",
    "Desde la introducción del calendario Gregoriano (en 1582), se utiliza la siguiente regla para determinar el tipo de año:\n",
    "\n",
    "si el número del año no es divisible entre cuatro, es un año común.\n",
    "de lo contrario, si el número del año no es divisible entre 100, es un año bisiesto.\n",
    "de lo contrario, si el número del año no es divisible entre 400, es un año común.\n",
    "de lo contrario, es un año bisiesto.\n",
    "Observa el código en el editor - solo lee un número de año y debe completarse con las instrucciones que implementan la prueba que acabamos de describir.\n",
    "\n",
    "El código debe mostrar uno de los dos mensajes posibles, que son Año Bisiesto o Año Común, según el valor ingresado.\n",
    "\n",
    "Sería bueno verificar si el año ingresado cae en la era Gregoriana y emitir una advertencia de lo contrario: No dentro del período del calendario Gregoriano. Consejo: utiliza los operadores != y %.\n"
   ]
  },
  {
   "cell_type": "code",
   "execution_count": 3,
   "metadata": {},
   "outputs": [
    {
     "name": "stdout",
     "output_type": "stream",
     "text": [
      "No dentro del período del calendario Gregoriano\n"
     ]
    }
   ],
   "source": [
    "# Leer un número de año del usuario\n",
    "año = int(input(\"Introduce un año: \"))\n",
    "\n",
    "# Verificar si el año cae dentro del período del calendario Gregoriano\n",
    "if año < 1582:\n",
    "    print(\"No dentro del período del calendario Gregoriano\")\n",
    "else:\n",
    "    # Determinar si es un año bisiesto o común\n",
    "    if año % 4 != 0:\n",
    "        print(\"Año Común\")\n",
    "    elif año % 100 != 0:\n",
    "        print(\"Año Bisiesto\")\n",
    "    elif año % 400 != 0:\n",
    "        print(\"Año Común\")\n",
    "    else:\n",
    "        print(\"Año Bisiesto\")\n"
   ]
  }
 ],
 "metadata": {
  "kernelspec": {
   "display_name": "Python 3",
   "language": "python",
   "name": "python3"
  },
  "language_info": {
   "codemirror_mode": {
    "name": "ipython",
    "version": 3
   },
   "file_extension": ".py",
   "mimetype": "text/x-python",
   "name": "python",
   "nbconvert_exporter": "python",
   "pygments_lexer": "ipython3",
   "version": "3.8.7"
  }
 },
 "nbformat": 4,
 "nbformat_minor": 2
}
